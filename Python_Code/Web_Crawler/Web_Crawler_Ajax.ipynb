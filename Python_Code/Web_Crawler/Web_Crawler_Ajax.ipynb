{
 "cells": [
  {
   "cell_type": "code",
   "execution_count": 5,
   "id": "d3ed4cf5",
   "metadata": {},
   "outputs": [
    {
     "name": "stdout",
     "output_type": "stream",
     "text": [
      "Requirement already satisfied: requests in c:\\python_james\\anaconda\\envs\\tibame_class\\lib\\site-packages (2.25.1)\n",
      "Requirement already satisfied: chardet<5,>=3.0.2 in c:\\python_james\\anaconda\\envs\\tibame_class\\lib\\site-packages (from requests) (4.0.0)\n",
      "Requirement already satisfied: certifi>=2017.4.17 in c:\\python_james\\anaconda\\envs\\tibame_class\\lib\\site-packages (from requests) (2021.5.30)\n",
      "Requirement already satisfied: idna<3,>=2.5 in c:\\python_james\\anaconda\\envs\\tibame_class\\lib\\site-packages (from requests) (2.10)\n",
      "Requirement already satisfied: urllib3<1.27,>=1.21.1 in c:\\python_james\\anaconda\\envs\\tibame_class\\lib\\site-packages (from requests) (1.26.6)\n",
      "Requirement already satisfied: urllib3 in c:\\python_james\\anaconda\\envs\\tibame_class\\lib\\site-packages (1.26.6)\n"
     ]
    }
   ],
   "source": [
    "#########################################\n",
    "#          Install  package             #\n",
    "#########################################\n",
    "\n",
    "!pip install requests"
   ]
  },
  {
   "cell_type": "code",
   "execution_count": null,
   "id": "9ad1accf",
   "metadata": {},
   "outputs": [],
   "source": []
  },
  {
   "cell_type": "code",
   "execution_count": 55,
   "id": "cbf8a6e2",
   "metadata": {},
   "outputs": [
    {
     "name": "stdout",
     "output_type": "stream",
     "text": [
      "Start Project\n",
      "--------------------\n",
      "Title : 台灣台北｜高人氣必吃鹽酥雞｜師園鹽酥雞   \n",
      "Price : 60  \n",
      "Rating : 4.69  \n",
      "Img_Url : https://image.kkday.com/v2/image/get/w_600%2Cc_fit/s1.kkday.com/product_100425/20200609022257_6G6hz/jpg  \n",
      "------------------------\n",
      "Title : KKday專屬優惠｜台北內湖光美數位影像證件照＆求職照＆專業形象照＆情侶閨蜜照拍攝   \n",
      "Price : 499  \n",
      "Rating : 4.9  \n",
      "Img_Url : https://image.kkday.com/v2/image/get/w_600%2Cc_fit/s1.kkday.com/product_101026/20200619022940_MDvyN/jpg  \n",
      "------------------------\n",
      "Title : 安心住宿OK｜台北｜台北喜來登大飯店住宿｜舒適客房 / 豪華客房｜假日不加價｜贈送阜航豆漿早餐與喜來登牛肉麵 Room Service服務   \n",
      "Price : 3599  \n",
      "Rating : 4.6  \n",
      "Img_Url : https://image.kkday.com/v2/image/get/w_600%2Cc_fit/s1.kkday.com/product_103384/20200910102511_F3WJi/jpg  \n",
      "------------------------\n",
      "Title : 台北｜甲山林湯旅｜日式湯屋泡湯&住宿 或 時尚客房住宿12小時+送1小時方案｜隱身在台北都市裡的溫泉｜立即確認即買即用   \n",
      "Price : 1788  \n",
      "Rating : 4.6  \n",
      "Img_Url : https://image.kkday.com/v2/image/get/w_600%2Cc_fit/s1.kkday.com/product_103153/20200902053020_flOxI/jpg  \n",
      "------------------------\n",
      "Title : 台北防疫旅館｜洛碁大飯店林森館｜一泊三食｜15 晚居家檢疫＆居家隔離專案｜保證浴缸房｜入住即贈個人溫度計   \n",
      "Price : 2350  \n",
      "Rating : 0  \n",
      "Img_Url : https://image.kkday.com/v2/image/get/w_600%2Cc_fit/s1.kkday.com/product_120559/20210622102320_zqJTh/jpg  \n",
      "------------------------\n",
      "Title : 台北象泰泰手工泰式奶茶店｜飲料消費抵用券   \n",
      "Price : 100  \n",
      "Rating : 0  \n",
      "Img_Url : https://image.kkday.com/v2/image/get/w_600%2Cc_fit/s1.kkday.com/product_120388/20210617071019_EwRrG/jpg  \n",
      "------------------------\n",
      "Title : 北投溫泉｜享溫泉｜大眾池 、湯屋、住宿   \n",
      "Price : 1080  \n",
      "Rating : 4.49  \n",
      "Img_Url : https://image.kkday.com/v2/image/get/w_600%2Cc_fit/s1.kkday.com/product_103122/20200922113452_ExJGd/jpg  \n",
      "------------------------\n",
      "Title : 【台灣最大動物園】台北市立木柵動物園門票   \n",
      "Price : 60  \n",
      "Rating : 4.8  \n",
      "Img_Url : https://image.kkday.com/v2/image/get/w_600%2Cc_fit/s1.kkday.com/product_37596/20200217094919_Wf8Fg/jpg  \n",
      "------------------------\n",
      "Title : 【早鳥8折】台北展覽｜永恆慕夏-線條的魔術特展門票   \n",
      "Price : 350  \n",
      "Rating : 0  \n",
      "Img_Url : https://image.kkday.com/v2/image/get/w_600%2Cc_fit/s1.kkday.com/product_118440/20210629071514_eVFq0/jpg  \n",
      "------------------------\n",
      "Title : 台灣台北百年老字號牛肉麵｜金春發牛肉店・昆陽店&復興店 餐券   \n",
      "Price : 340  \n",
      "Rating : 4.77  \n",
      "Img_Url : https://image.kkday.com/v2/image/get/w_600%2Cc_fit/s1.kkday.com/product_27369/20190703003236_APdJG/jpg  \n",
      "------------------------\n"
     ]
    }
   ],
   "source": [
    "##################################\n",
    "#            package             #\n",
    "##################################\n",
    "import requests\n",
    "from bs4 import BeautifulSoup\n",
    "import time\n",
    "import json\n",
    "##################################\n",
    "#         Start Project          #\n",
    "##################################\n",
    "\n",
    "print('Start Project')\n",
    "print('--'*10)\n",
    "##################################\n",
    "#            網頁擷取             #\n",
    "##################################\n",
    "Target_Address = fr'https://www.kkday.com/zh-tw/product/ajax_get_top_products?areaCode=A01-001-00001&upLimit=10&showLmit=4&csrf_token_name=fd302ff90423b394ea87be7e27bf7ba7'\n",
    "headers = {'user-agent': 'Mozilla/5.0 (Windows NT 10.0; Win64; x64) AppleWebKit/537.36 (KHTML, like Gecko) Chrome/91.0.4472.77 Safari/537.36 Edg/91.0.864.41'}\n",
    "\n",
    "\n",
    "response = requests.get(url = Target_Address , headers = headers)\n",
    "soup = BeautifulSoup( response.text , 'html.parser' )\n",
    "text = soup.get_text()\n",
    "data = json.loads(text)\n",
    "\n",
    "for number in data['data']:\n",
    "    title = number['name']\n",
    "    price = number['sale_price']\n",
    "    rating = number['rating_star']\n",
    "    img = number['img_url']\n",
    "    \n",
    "    print(fr'Title : {title}  ','\\n'\n",
    "          fr'Price : {price} ','\\n'\n",
    "          fr'Rating : {rating} ','\\n'\n",
    "          fr'Img_Url : {img} ','\\n'\n",
    "          '------------------------' )\n"
   ]
  },
  {
   "cell_type": "code",
   "execution_count": null,
   "id": "bf7b1c4f",
   "metadata": {},
   "outputs": [],
   "source": []
  },
  {
   "cell_type": "code",
   "execution_count": null,
   "id": "f0c44900",
   "metadata": {},
   "outputs": [],
   "source": []
  },
  {
   "cell_type": "code",
   "execution_count": null,
   "id": "19c4894f",
   "metadata": {},
   "outputs": [],
   "source": []
  },
  {
   "cell_type": "code",
   "execution_count": null,
   "id": "ce2c84fa",
   "metadata": {},
   "outputs": [],
   "source": []
  },
  {
   "cell_type": "code",
   "execution_count": null,
   "id": "28b07cba",
   "metadata": {},
   "outputs": [],
   "source": []
  },
  {
   "cell_type": "code",
   "execution_count": null,
   "id": "2f28b01d",
   "metadata": {},
   "outputs": [],
   "source": []
  },
  {
   "cell_type": "code",
   "execution_count": null,
   "id": "f5a76d55",
   "metadata": {},
   "outputs": [],
   "source": []
  },
  {
   "cell_type": "code",
   "execution_count": null,
   "id": "3b23d279",
   "metadata": {},
   "outputs": [],
   "source": []
  },
  {
   "cell_type": "code",
   "execution_count": null,
   "id": "229d7e21",
   "metadata": {},
   "outputs": [],
   "source": []
  },
  {
   "cell_type": "code",
   "execution_count": null,
   "id": "99b81bc6",
   "metadata": {},
   "outputs": [],
   "source": []
  },
  {
   "cell_type": "code",
   "execution_count": null,
   "id": "c5dd1003",
   "metadata": {},
   "outputs": [],
   "source": []
  },
  {
   "cell_type": "code",
   "execution_count": null,
   "id": "4dbb36ea",
   "metadata": {},
   "outputs": [],
   "source": []
  },
  {
   "cell_type": "code",
   "execution_count": null,
   "id": "0327b883",
   "metadata": {},
   "outputs": [],
   "source": []
  },
  {
   "cell_type": "code",
   "execution_count": null,
   "id": "d4f2a381",
   "metadata": {},
   "outputs": [],
   "source": []
  },
  {
   "cell_type": "code",
   "execution_count": null,
   "id": "a2c1d0fb",
   "metadata": {},
   "outputs": [],
   "source": []
  },
  {
   "cell_type": "code",
   "execution_count": null,
   "id": "b601b9bb",
   "metadata": {},
   "outputs": [],
   "source": []
  },
  {
   "cell_type": "code",
   "execution_count": null,
   "id": "4d0b828e",
   "metadata": {},
   "outputs": [],
   "source": []
  },
  {
   "cell_type": "code",
   "execution_count": null,
   "id": "0ac75f52",
   "metadata": {},
   "outputs": [],
   "source": []
  },
  {
   "cell_type": "code",
   "execution_count": null,
   "id": "eb6c5856",
   "metadata": {},
   "outputs": [],
   "source": []
  },
  {
   "cell_type": "code",
   "execution_count": null,
   "id": "a459d88a",
   "metadata": {},
   "outputs": [],
   "source": []
  },
  {
   "cell_type": "code",
   "execution_count": null,
   "id": "737550d6",
   "metadata": {},
   "outputs": [],
   "source": []
  },
  {
   "cell_type": "code",
   "execution_count": null,
   "id": "72fd1490",
   "metadata": {},
   "outputs": [],
   "source": []
  },
  {
   "cell_type": "code",
   "execution_count": null,
   "id": "a33ba769",
   "metadata": {},
   "outputs": [],
   "source": []
  },
  {
   "cell_type": "code",
   "execution_count": null,
   "id": "c7d601b7",
   "metadata": {},
   "outputs": [],
   "source": []
  },
  {
   "cell_type": "code",
   "execution_count": null,
   "id": "912e9efa",
   "metadata": {},
   "outputs": [],
   "source": []
  },
  {
   "cell_type": "code",
   "execution_count": null,
   "id": "1ae7735c",
   "metadata": {},
   "outputs": [],
   "source": []
  },
  {
   "cell_type": "code",
   "execution_count": null,
   "id": "d7cb17fa",
   "metadata": {},
   "outputs": [],
   "source": []
  },
  {
   "cell_type": "code",
   "execution_count": null,
   "id": "2277ed57",
   "metadata": {},
   "outputs": [],
   "source": []
  },
  {
   "cell_type": "code",
   "execution_count": null,
   "id": "cd02825f",
   "metadata": {},
   "outputs": [],
   "source": []
  },
  {
   "cell_type": "code",
   "execution_count": null,
   "id": "afdbddfc",
   "metadata": {},
   "outputs": [],
   "source": []
  },
  {
   "cell_type": "code",
   "execution_count": null,
   "id": "c2090bb1",
   "metadata": {},
   "outputs": [],
   "source": []
  },
  {
   "cell_type": "code",
   "execution_count": null,
   "id": "38cd4cb0",
   "metadata": {},
   "outputs": [],
   "source": []
  },
  {
   "cell_type": "code",
   "execution_count": null,
   "id": "050a038e",
   "metadata": {},
   "outputs": [],
   "source": []
  },
  {
   "cell_type": "code",
   "execution_count": null,
   "id": "16a86ae3",
   "metadata": {},
   "outputs": [],
   "source": []
  },
  {
   "cell_type": "code",
   "execution_count": null,
   "id": "67dfbd35",
   "metadata": {},
   "outputs": [],
   "source": []
  },
  {
   "cell_type": "code",
   "execution_count": null,
   "id": "c5b3dab7",
   "metadata": {},
   "outputs": [],
   "source": []
  },
  {
   "cell_type": "code",
   "execution_count": null,
   "id": "88336e17",
   "metadata": {},
   "outputs": [],
   "source": []
  },
  {
   "cell_type": "code",
   "execution_count": null,
   "id": "0dfe892f",
   "metadata": {},
   "outputs": [],
   "source": []
  },
  {
   "cell_type": "code",
   "execution_count": null,
   "id": "9a74bd80",
   "metadata": {},
   "outputs": [],
   "source": []
  },
  {
   "cell_type": "code",
   "execution_count": null,
   "id": "0ad4bd2b",
   "metadata": {},
   "outputs": [],
   "source": []
  },
  {
   "cell_type": "code",
   "execution_count": null,
   "id": "42f27264",
   "metadata": {},
   "outputs": [],
   "source": []
  },
  {
   "cell_type": "code",
   "execution_count": null,
   "id": "22b3ff0c",
   "metadata": {},
   "outputs": [],
   "source": []
  },
  {
   "cell_type": "code",
   "execution_count": null,
   "id": "310923fc",
   "metadata": {},
   "outputs": [],
   "source": []
  },
  {
   "cell_type": "code",
   "execution_count": null,
   "id": "2ed8f570",
   "metadata": {},
   "outputs": [],
   "source": []
  },
  {
   "cell_type": "code",
   "execution_count": null,
   "id": "98ee3bf5",
   "metadata": {},
   "outputs": [],
   "source": []
  },
  {
   "cell_type": "code",
   "execution_count": null,
   "id": "8cf23bdb",
   "metadata": {},
   "outputs": [],
   "source": []
  },
  {
   "cell_type": "code",
   "execution_count": null,
   "id": "43df4001",
   "metadata": {},
   "outputs": [],
   "source": []
  },
  {
   "cell_type": "code",
   "execution_count": null,
   "id": "433323d2",
   "metadata": {},
   "outputs": [],
   "source": []
  },
  {
   "cell_type": "code",
   "execution_count": null,
   "id": "074440b9",
   "metadata": {},
   "outputs": [],
   "source": []
  },
  {
   "cell_type": "code",
   "execution_count": null,
   "id": "33a85107",
   "metadata": {},
   "outputs": [],
   "source": []
  },
  {
   "cell_type": "code",
   "execution_count": null,
   "id": "15f88102",
   "metadata": {},
   "outputs": [],
   "source": []
  },
  {
   "cell_type": "code",
   "execution_count": null,
   "id": "2f7d2021",
   "metadata": {},
   "outputs": [],
   "source": []
  },
  {
   "cell_type": "code",
   "execution_count": null,
   "id": "3db56c38",
   "metadata": {},
   "outputs": [],
   "source": []
  },
  {
   "cell_type": "code",
   "execution_count": null,
   "id": "7bd6c6db",
   "metadata": {},
   "outputs": [],
   "source": []
  }
 ],
 "metadata": {
  "kernelspec": {
   "display_name": "Python 3 (ipykernel)",
   "language": "python",
   "name": "python3"
  },
  "language_info": {
   "codemirror_mode": {
    "name": "ipython",
    "version": 3
   },
   "file_extension": ".py",
   "mimetype": "text/x-python",
   "name": "python",
   "nbconvert_exporter": "python",
   "pygments_lexer": "ipython3",
   "version": "3.7.10"
  }
 },
 "nbformat": 4,
 "nbformat_minor": 5
}
