{
 "cells": [
  {
   "cell_type": "code",
   "execution_count": 1,
   "id": "7a27dc16",
   "metadata": {},
   "outputs": [
    {
     "name": "stdout",
     "output_type": "stream",
     "text": [
      "Collecting beautifulsoup4\n",
      "  Using cached beautifulsoup4-4.9.3-py3-none-any.whl (115 kB)\n",
      "Collecting soupsieve>1.2\n",
      "  Using cached soupsieve-2.2.1-py3-none-any.whl (33 kB)\n",
      "Installing collected packages: soupsieve, beautifulsoup4\n",
      "Successfully installed beautifulsoup4-4.9.3 soupsieve-2.2.1\n"
     ]
    }
   ],
   "source": [
    "#########################################\n",
    "#          Install  package             #\n",
    "#########################################\n",
    "\n",
    "!pip install beautifulsoup4\n",
    "!pip install requests"
   ]
  },
  {
   "cell_type": "code",
   "execution_count": 91,
   "id": "bbedfcc8",
   "metadata": {},
   "outputs": [
    {
     "name": "stdout",
     "output_type": "stream",
     "text": [
      "Start Project\n",
      "--------------------\n"
     ]
    }
   ],
   "source": [
    "##################################\n",
    "#            package             #\n",
    "##################################\n",
    "import requests \n",
    "from bs4 import BeautifulSoup\n",
    "import time\n",
    "##################################\n",
    "#         Start Project          #\n",
    "##################################\n",
    "\n",
    "print('Start Project')\n",
    "print('--'*10)\n",
    "##################################\n",
    "#            網頁擷取             #\n",
    "##################################\n",
    "Target_Address = fr'https://udn.com/news/breaknews/2'\n",
    "\n",
    "response = requests.get( Target_Address )\n",
    "\n",
    "##################################\n",
    "#          解析網頁程式           #\n",
    "##################################\n",
    "\n",
    "soup = BeautifulSoup( response.text , 'html.parser' ) #解析成純文字，運用'html.parser'解析器\n",
    "\n",
    "            ##  Another Way ##\n",
    "            # soup = response.content.decode()       \n",
    "    "
   ]
  },
  {
   "cell_type": "code",
   "execution_count": 92,
   "id": "22fc8e8a",
   "metadata": {},
   "outputs": [
    {
     "name": "stdout",
     "output_type": "stream",
     "text": [
      "標題：屏東連4天+0   縣府：Delta群聚已控制住\n",
      "標題：下午信義商圈大停電 台電澄清：均屬用戶造成\n",
      "標題：游泳／站上東奧最大舞台 王冠閎盼進決賽擊敗宿敵本多灯\n",
      "標題：歐洲議會決議抵制及制裁陸港官員 港中聯辦：顛倒黑白\n",
      "標題：有片！超澎湃鹹食燕麥粥 原來還能這樣吃？\n",
      "標題：驚！灰熊襲擊帳篷將人拖出咬死 當局追捕三天開槍擊斃\n",
      "標題：FT：英特爾擬砸200億美元歐洲建廠 投資散布多國\n",
      "標題：大江購物突提早打烊 公司：因確診者足跡全館消毒\n",
      "標題：7月10日疫情懶人卡／北捷清潔工確診 採檢其家人證實6染疫\n",
      "標題：出奇招？泰國醫院在蝦皮開放預約莫德納 1800劑幾分鐘完售\n",
      "標題：中央突然公布微解封 柯文哲批：非常不負責任\n",
      "標題：北捷外包清潔工確診 工作地點在南京三民站\n",
      "標題：新北新增11例確診 足跡曾到三峽全聯、三重百貨廣場\n",
      "標題：古巴國產COVID疫苗獲緊急使用授權 拉美第一支\n",
      "標題：美科技巨頭齊聚「億萬富豪夏令營」 幕後主導者是神祕家族企業\n",
      "標題：「妳終於回來了」日本熱海土石流添悲劇 警為老翁尋獲亡妻遺體\n",
      "標題：擋不住民意！彰化微解封政策轉彎  餐廳禁止內用\n",
      "標題：信義微風1員工確診 黃珊珊：該樓層暫停營運3天\n",
      "標題：游泳／不打疫苗！美國爭金好手 就這樣去東京\n"
     ]
    }
   ],
   "source": [
    "##################################\n",
    "#       Homepage All Title       #\n",
    "##################################\n",
    "\n",
    "allTitle = soup.select( '.story-list__text h2 a' )[1:]\n",
    "for each_title in allTitle:\n",
    "    print('標題：' + each_title.text)   "
   ]
  },
  {
   "cell_type": "code",
   "execution_count": null,
   "id": "60c0723a",
   "metadata": {},
   "outputs": [],
   "source": [
    "##################################\n",
    "#          News Content          #\n",
    "##################################\n",
    "\n",
    "allTitle = soup.select( '.story-list__text h2 a' )[1:]\n",
    "\n",
    "for each_title in allTitle:\n",
    "    each_href = each_title['href']\n",
    "    \n",
    "    ##################################\n",
    "    #            網頁擷取             #\n",
    "    ##################################\n",
    "    \n",
    "    Target_News_Address = fr'https://udn.com{each_href}'\n",
    "    print(Target_News_Address)\n",
    "    response = requests.get( Target_News_Address )\n",
    "\n",
    "    ##################################\n",
    "    #          解析網頁程式           #\n",
    "    ##################################\n",
    "\n",
    "    soup = BeautifulSoup( response.text , 'html.parser' ) #解析成純文字，運用'html.parser'解析器\n",
    "    allContent = soup.select( '.article-content__editor p' )\n",
    "    \n",
    "\n",
    "    ##################################\n",
    "    #           資料前處理            #\n",
    "    ##################################\n",
    "    \n",
    "    allContent_Save = []\n",
    "    for paragraph in allContent :\n",
    "        \n",
    "        ##################################\n",
    "        #         前處理 Function         #\n",
    "        ##################################\n",
    "        def replace_all(tag, pre_dict):\n",
    "            \n",
    "            ##################################\n",
    "            #       排除文章最後的索引         #\n",
    "            ##################################\n",
    "            \n",
    "            excepts = ['延伸閱讀','本文授權', '【更多', '【2021']\n",
    "            \n",
    "            \n",
    "            text = \"\"\n",
    "            if tag.get_text() != \"\":\n",
    "                if sum([x in tag.get_text() for x in excepts]) != 0:\n",
    "                    pass\n",
    "\n",
    "                text += tag.get_text()\n",
    "             \n",
    "            ##################################\n",
    "            #          定義取代字典           #\n",
    "            ##################################\n",
    "            repalce_dict = {\n",
    "                            '<p>' : '' ,\n",
    "                            '</p>' : '' ,\n",
    "                            '</strong></a>' : ''\n",
    "                           } \n",
    "            \n",
    "            for i, j in pre_dict.items():\n",
    "                text = text.replace(i, j)\n",
    "            \n",
    "            return text\n",
    "        \n",
    "        \n",
    "        paragraph = replace_all(paragraph, repalce_dict)\n",
    "        \n",
    "        ##################################\n",
    "        #            設定時間             #\n",
    "        ##################################\n",
    "        \n",
    "        time.sleep(0.2)"
   ]
  },
  {
   "cell_type": "code",
   "execution_count": null,
   "id": "2fe1b588",
   "metadata": {},
   "outputs": [],
   "source": []
  },
  {
   "cell_type": "code",
   "execution_count": null,
   "id": "00b1d5e5",
   "metadata": {},
   "outputs": [],
   "source": []
  }
 ],
 "metadata": {
  "kernelspec": {
   "display_name": "Python 3 (ipykernel)",
   "language": "python",
   "name": "python3"
  },
  "language_info": {
   "codemirror_mode": {
    "name": "ipython",
    "version": 3
   },
   "file_extension": ".py",
   "mimetype": "text/x-python",
   "name": "python",
   "nbconvert_exporter": "python",
   "pygments_lexer": "ipython3",
   "version": "3.7.10"
  }
 },
 "nbformat": 4,
 "nbformat_minor": 5
}
