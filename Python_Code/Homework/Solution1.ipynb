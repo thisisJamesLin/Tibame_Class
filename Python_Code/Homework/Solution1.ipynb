{
 "cells": [
  {
   "cell_type": "code",
   "execution_count": 37,
   "id": "f2b5c069",
   "metadata": {},
   "outputs": [
    {
     "name": "stdout",
     "output_type": "stream",
     "text": [
      "1\n",
      "3\n",
      "5\n",
      "7\n",
      "9\n",
      "11\n",
      "13\n",
      "15\n",
      "17\n",
      "19\n",
      "21\n",
      "23\n",
      "25\n",
      "27\n",
      "29\n",
      "31\n",
      "33\n",
      "35\n",
      "37\n",
      "39\n",
      "41\n",
      "43\n",
      "45\n",
      "47\n",
      "49\n",
      "51\n",
      "53\n",
      "55\n",
      "57\n",
      "59\n",
      "61\n",
      "63\n",
      "65\n",
      "67\n",
      "69\n",
      "71\n",
      "73\n",
      "75\n",
      "77\n",
      "79\n",
      "81\n",
      "83\n",
      "85\n",
      "87\n",
      "89\n",
      "91\n",
      "93\n",
      "95\n",
      "97\n",
      "99\n"
     ]
    }
   ],
   "source": [
    "#########################################\n",
    "#                 Q1                    #\n",
    "#########################################\n",
    "\n",
    "## 1-100的數字中印出所有奇數 (使用 for loop 或 while) ##\n",
    "\n",
    "#######################\n",
    "#       For Loop      #\n",
    "#######################\n",
    "\n",
    "# start = 1\n",
    "# end = 101\n",
    "# interval = 2\n",
    "\n",
    "# for odd_number in range( start , end , interval ):\n",
    "#     print(odd_number)\n",
    "\n",
    "\n",
    "#######################\n",
    "#        While        #\n",
    "#######################\n",
    "\n",
    "# even_number = 1\n",
    "# end = 101\n",
    "# interval = 2\n",
    "\n",
    "# while even_number < end:\n",
    "    \n",
    "#     print(even_number)\n",
    "#     even_number += interval\n",
    "    \n"
   ]
  },
  {
   "cell_type": "code",
   "execution_count": null,
   "id": "97c6f33b",
   "metadata": {},
   "outputs": [],
   "source": []
  },
  {
   "cell_type": "code",
   "execution_count": null,
   "id": "a5d49b93",
   "metadata": {},
   "outputs": [],
   "source": []
  },
  {
   "cell_type": "code",
   "execution_count": null,
   "id": "bad068a8",
   "metadata": {},
   "outputs": [],
   "source": []
  },
  {
   "cell_type": "code",
   "execution_count": null,
   "id": "0ac19834",
   "metadata": {},
   "outputs": [],
   "source": []
  },
  {
   "cell_type": "code",
   "execution_count": 7,
   "id": "a3e6886d",
   "metadata": {},
   "outputs": [
    {
     "name": "stdout",
     "output_type": "stream",
     "text": [
      "2550\n"
     ]
    }
   ],
   "source": [
    "#########################################\n",
    "#                 Q2                    #\n",
    "#########################################\n",
    "\n",
    "## 印出1-100 (含100) 的數字中，所有偶數總和 (使用 for loop 或 while) ##\n",
    "\n",
    "################################\n",
    "#        My Solution           #\n",
    "################################\n",
    "\n",
    "#######################\n",
    "#       For Loop      #\n",
    "#######################\n",
    "\n",
    "# start = 0\n",
    "# end = 101\n",
    "# interval = 2\n",
    "# _sum = 0\n",
    "\n",
    "# for even_number in range( start , end , interval ):\n",
    "#     _sum += even_number\n",
    "\n",
    "# print(_sum)\n",
    "\n",
    "#######################\n",
    "#        While        #\n",
    "#######################\n",
    "\n",
    "# even_number = 0\n",
    "# end = 101\n",
    "# interval = 2\n",
    "# _sum = 0\n",
    "\n",
    "# while even_number < end:\n",
    "    \n",
    "#     _sum += even_number\n",
    "#     even_number += interval\n",
    "    \n",
    "# print(_sum)"
   ]
  },
  {
   "cell_type": "code",
   "execution_count": 8,
   "id": "960dc549",
   "metadata": {},
   "outputs": [
    {
     "name": "stdout",
     "output_type": "stream",
     "text": [
      " 1 X 2 = 2 \n",
      " 1 X 4 = 4 \n",
      " 1 X 6 = 6 \n",
      " 1 X 8 = 8 \n",
      " 3 X 2 = 6 \n",
      " 3 X 4 = 12 \n",
      " 3 X 6 = 18 \n",
      " 3 X 8 = 24 \n",
      " 5 X 2 = 10 \n",
      " 5 X 4 = 20 \n",
      " 5 X 6 = 30 \n",
      " 5 X 8 = 40 \n",
      " 7 X 2 = 14 \n",
      " 7 X 4 = 28 \n",
      " 7 X 6 = 42 \n",
      " 7 X 8 = 56 \n",
      " 9 X 2 = 18 \n",
      " 9 X 4 = 36 \n",
      " 9 X 6 = 54 \n",
      " 9 X 8 = 72 \n"
     ]
    }
   ],
   "source": [
    "#########################################\n",
    "#                 Q3                    #\n",
    "#########################################\n",
    "\n",
    "## 請只印出99乘法表中，奇數乘上偶數的組合，如，1 x 2 = 2, 1 x 4 =4 .... 9 x 6 = 54, 9 x 8 = 72 ##\n",
    "\n",
    "odd_number_set = 1\n",
    "even_number_set = 2\n",
    "end = 10\n",
    "interval = 2\n",
    "\n",
    "for odd_number in range( odd_number_set , end , interval ) : \n",
    "    \n",
    "    for even_number in range( even_number_set , end , interval ) : \n",
    "        \n",
    "        print(fr' {odd_number} X {even_number} = { odd_number * even_number } ')"
   ]
  },
  {
   "cell_type": "code",
   "execution_count": 12,
   "id": "ec407119",
   "metadata": {},
   "outputs": [
    {
     "name": "stdout",
     "output_type": "stream",
     "text": [
      "['a', 'b', 'c', 'd', 'e', 's']\n"
     ]
    }
   ],
   "source": [
    "#########################################\n",
    "#                 Q4                    #\n",
    "#########################################\n",
    "\n",
    "## 請先設定一個字串(_str=\"abbaaccdaesa\")，請找出s這個字串中，所有不同的字母，參考答案如下: [a, b, c, d, e, s]。(可不照順序排) ##\n",
    "\n",
    "_str = \"abbaaccdaesa\"\n",
    "_list = list( set(_str))\n",
    "\n",
    "print(sorted(_list , reverse=False))"
   ]
  },
  {
   "cell_type": "code",
   "execution_count": 13,
   "id": "9187787c",
   "metadata": {},
   "outputs": [
    {
     "name": "stdout",
     "output_type": "stream",
     "text": [
      "[0, 3, 4, 8, 11]\n"
     ]
    }
   ],
   "source": [
    "#########################################\n",
    "#                 Q5                    #\n",
    "#########################################\n",
    "\n",
    "## 請先設定一個字串(_str=\"abbaaccdaesa\")，請找出s這個字串中，字母為a的index，參考答案如下: [0,3,4,8,11] ##\n",
    "\n",
    "_str = \"abbaaccdaesa\"\n",
    "filter = 'a'\n",
    "Index_list = []\n",
    "\n",
    "for Index , letter in enumerate(_str) : \n",
    "    \n",
    "    if letter == filter :\n",
    "        Index_list.append( Index )\n",
    "        \n",
    "print(Index_list)"
   ]
  },
  {
   "cell_type": "code",
   "execution_count": 32,
   "id": "da358df4",
   "metadata": {},
   "outputs": [
    {
     "name": "stdout",
     "output_type": "stream",
     "text": [
      "請輸入一正整數，求費式數列的值3\n",
      "2\n"
     ]
    }
   ],
   "source": [
    "#########################################\n",
    "#                 Q6                    #\n",
    "#########################################\n",
    "\n",
    "## 請寫一個函式fun(n)，來產生費式數列(0、1、1、2、3、5、8、13、21、34、55、89......)， ##\n",
    "## 如: fun(n=0) 回傳 0， fun(n=6) 回傳 8，fun(n=9) 回傳 34，以此類推。 ##\n",
    "\n",
    "################################\n",
    "#        My Solution          #\n",
    "################################\n",
    "\n",
    "# def Fibonacci_series ( n : int) -> int:\n",
    "    \n",
    "#     Previous = 0 ; Last = 1 ; Sum = 0\n",
    "    \n",
    "#     if (n == 0) or (n == 1):\n",
    "#         return n\n",
    "    \n",
    "#     else:\n",
    "\n",
    "#         for i in range( n-1 ):\n",
    "            \n",
    "#             Sum = Previous + Last\n",
    "#             Previous = Last\n",
    "#             Last = Sum\n",
    "            \n",
    "#         return Sum\n",
    "    \n",
    "# n = int(input('請輸入一正整數，求費式數列的值'))\n",
    "# print(Fibonacci_series(n = n))\n",
    "\n",
    "################################\n",
    "#        My Solution 2         #\n",
    "################################\n",
    "\n",
    "\n",
    "# def Fibonacci_series(n):\n",
    "    \n",
    "#     if (n == 0) or (n == 1):\n",
    "#         return n\n",
    "    \n",
    "#     return ( Fibonacci_series(n-1) + Fibonacci_series(n-2) )\n",
    "# n = int(input('請輸入一正整數，求費式數列的值'))\n",
    "# print(Fibonacci_series(n = n))"
   ]
  }
 ],
 "metadata": {
  "kernelspec": {
   "display_name": "Python 3 (ipykernel)",
   "language": "python",
   "name": "python3"
  },
  "language_info": {
   "codemirror_mode": {
    "name": "ipython",
    "version": 3
   },
   "file_extension": ".py",
   "mimetype": "text/x-python",
   "name": "python",
   "nbconvert_exporter": "python",
   "pygments_lexer": "ipython3",
   "version": "3.7.10"
  }
 },
 "nbformat": 4,
 "nbformat_minor": 5
}
