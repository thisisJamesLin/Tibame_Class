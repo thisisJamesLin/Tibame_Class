{
 "cells": [
  {
   "cell_type": "code",
   "execution_count": null,
   "id": "92f0a5c5",
   "metadata": {},
   "outputs": [],
   "source": [
    "#########################################\n",
    "#                 Q1                    #\n",
    "#########################################\n",
    "\n",
    "## 1-100的數字中印出所有奇數 (使用 for loop 或 while) ##\n"
   ]
  },
  {
   "cell_type": "code",
   "execution_count": null,
   "id": "85e114ab",
   "metadata": {},
   "outputs": [],
   "source": [
    "#########################################\n",
    "#                 Q2                    #\n",
    "#########################################\n",
    "\n",
    "## 印出1-100 (含100) 的數字中，所有偶數總和 (使用 for loop 或 while) ##"
   ]
  },
  {
   "cell_type": "code",
   "execution_count": null,
   "id": "d228e29a",
   "metadata": {},
   "outputs": [],
   "source": [
    "#########################################\n",
    "#                 Q3                    #\n",
    "#########################################\n",
    "\n",
    "## 請只印出99乘法表中，奇數乘上偶數的組合，如，1 x 2 = 2, 1 x 4 =4 .... 9 x 6 = 54, 9 x 8 = 72 ##"
   ]
  },
  {
   "cell_type": "code",
   "execution_count": null,
   "id": "fe5c960d",
   "metadata": {},
   "outputs": [],
   "source": [
    "#########################################\n",
    "#                 Q4                    #\n",
    "#########################################\n",
    "\n",
    "## 請先設定一個字串(s=\"abbaaccdaesa\")，請找出s這個字串中，所有不同的字母，參考答案如下: [a, b, c, d, e, s]。(可不照順序排) ##"
   ]
  },
  {
   "cell_type": "code",
   "execution_count": null,
   "id": "a0ef1999",
   "metadata": {},
   "outputs": [],
   "source": [
    "#########################################\n",
    "#                 Q5                    #\n",
    "#########################################\n",
    "\n",
    "## 請先設定一個字串(s=\"abbaaccdaesa\")，請找出s這個字串中，字母為a的index，參考答案如下: [0,3,4,8,11] ##"
   ]
  },
  {
   "cell_type": "code",
   "execution_count": null,
   "id": "906994a6",
   "metadata": {},
   "outputs": [],
   "source": [
    "#########################################\n",
    "#                 Q6                    #\n",
    "#########################################\n",
    "\n",
    "## 請寫一個\"遞迴\"函式fun(n)，來產生費式數列(0、1、1、2、3、5、8、13、21、34、55、89......)， ##\n",
    "## 如: fun(n=0) 回傳 0， fun(n=6) 回傳 8，fun(n=9) 回傳 34，以此類推。 ##"
   ]
  }
 ],
 "metadata": {
  "kernelspec": {
   "display_name": "Python 3 (ipykernel)",
   "language": "python",
   "name": "python3"
  },
  "language_info": {
   "codemirror_mode": {
    "name": "ipython",
    "version": 3
   },
   "file_extension": ".py",
   "mimetype": "text/x-python",
   "name": "python",
   "nbconvert_exporter": "python",
   "pygments_lexer": "ipython3",
   "version": "3.7.10"
  }
 },
 "nbformat": 4,
 "nbformat_minor": 5
}
