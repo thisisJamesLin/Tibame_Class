{
 "cells": [
  {
   "cell_type": "code",
   "execution_count": 14,
   "id": "6b68ba89",
   "metadata": {},
   "outputs": [
    {
     "name": "stdout",
     "output_type": "stream",
     "text": [
      "Collecting pandas\n",
      "  Downloading pandas-1.3.0-cp37-cp37m-win_amd64.whl (10.0 MB)\n",
      "Requirement already satisfied: python-dateutil>=2.7.3 in c:\\python_james\\anaconda\\envs\\tibame_class\\lib\\site-packages (from pandas) (2.8.1)\n",
      "Collecting pytz>=2017.3\n",
      "  Using cached pytz-2021.1-py2.py3-none-any.whl (510 kB)\n",
      "Collecting numpy>=1.17.3\n",
      "  Downloading numpy-1.21.0-cp37-cp37m-win_amd64.whl (13.9 MB)\n",
      "Requirement already satisfied: six>=1.5 in c:\\python_james\\anaconda\\envs\\tibame_class\\lib\\site-packages (from python-dateutil>=2.7.3->pandas) (1.16.0)\n",
      "Installing collected packages: pytz, numpy, pandas\n",
      "Successfully installed numpy-1.21.0 pandas-1.3.0 pytz-2021.1\n"
     ]
    }
   ],
   "source": [
    "#########################################\n",
    "#          Install  package             #\n",
    "#########################################\n",
    "\n",
    "# !pip install pyodbc\n",
    "#!pip install pandas\n"
   ]
  },
  {
   "cell_type": "code",
   "execution_count": null,
   "id": "362c9850",
   "metadata": {},
   "outputs": [],
   "source": []
  },
  {
   "cell_type": "code",
   "execution_count": 1,
   "id": "3914b110",
   "metadata": {},
   "outputs": [
    {
     "name": "stdout",
     "output_type": "stream",
     "text": [
      "Start Project\n",
      "       ID            Name CountryCode       District  Population\n",
      "0       1           Kabul         AFG          Kabol     1780000\n",
      "1       2        Qandahar         AFG       Qandahar      237500\n",
      "2       3           Herat         AFG          Herat      186800\n",
      "3       4  Mazar-e-Sharif         AFG          Balkh      127800\n",
      "4       5       Amsterdam         NLD  Noord-Holland      731200\n",
      "..    ...             ...         ...            ...         ...\n",
      "995   996         Cilegon         IDN      West Java      117000\n",
      "996   997         Cianjur         IDN      West Java      114300\n",
      "997   998         Ciparay         IDN      West Java      111500\n",
      "998   999     Lhokseumawe         IDN           Aceh      109600\n",
      "999  1000           Taman         IDN      East Java      107000\n",
      "\n",
      "[1000 rows x 5 columns]\n"
     ]
    }
   ],
   "source": [
    "#########################################\n",
    "#               package                 #\n",
    "#########################################\n",
    "import os\n",
    "import pyodbc \n",
    "import pandas as pd \n",
    "import numpy as np\n",
    "\n",
    "#########################################\n",
    "#               Function                #\n",
    "#########################################\n",
    "\n",
    "\n",
    "def mysql_to_dataframe(query: str, server: str, user: str, password: str, database: str) -> pd.DataFrame:\n",
    "    connect = 1\n",
    "    while connect < 6:\n",
    "        connect_info = pyodbc.connect(\"DRIVER={MySQL ODBC 8.0 Unicode Driver};\" +\n",
    "                                      f'''SERVER={server}; \n",
    "                                          PORT=3306;\n",
    "                                          DATABASE={database};\n",
    "                                          UID={user};\n",
    "                                          PASSWORD={password};\n",
    "                                          CHARSET=UTF8;'''\n",
    "                                      )\n",
    "\n",
    "        try:\n",
    "            df = pd.read_sql(query, connect_info)\n",
    "            break\n",
    "            \n",
    "        except :\n",
    "\n",
    "            if connect < 5:\n",
    "                connect += 1\n",
    "\n",
    "            else:\n",
    "                print(f'{query}\\nConnect Fail')\n",
    "                os._exit(0)\n",
    "\n",
    "    return  df\n",
    "                    \n",
    "#########################################\n",
    "#                Project                #\n",
    "#########################################\n",
    "\n",
    "print('Start Project')\n",
    "\n",
    "sql_query = \"\"\"\n",
    "            SELECT  * \n",
    "            FROM world.city\n",
    "            Limit 0, 1000\n",
    "            \"\"\"\n",
    "\n",
    "server = '127.0.0.1'\n",
    "\n",
    "user = 'Tibame_Class'\n",
    "\n",
    "password = 'P@ssword'\n",
    "\n",
    "database = 'world'\n",
    "\n",
    "df = mysql_to_dataframe(query = sql_query , \n",
    "                        server = server,\n",
    "                        user = user,\n",
    "                        password = password,\n",
    "                        database = database)\n",
    "print(df)\n"
   ]
  },
  {
   "cell_type": "code",
   "execution_count": null,
   "id": "b2b6c7fa",
   "metadata": {},
   "outputs": [],
   "source": []
  },
  {
   "cell_type": "code",
   "execution_count": null,
   "id": "4b21f961",
   "metadata": {},
   "outputs": [],
   "source": []
  },
  {
   "cell_type": "code",
   "execution_count": null,
   "id": "a2811d56",
   "metadata": {},
   "outputs": [],
   "source": []
  },
  {
   "cell_type": "code",
   "execution_count": null,
   "id": "de2a17e8",
   "metadata": {},
   "outputs": [],
   "source": []
  },
  {
   "cell_type": "code",
   "execution_count": null,
   "id": "6b990639",
   "metadata": {},
   "outputs": [],
   "source": []
  },
  {
   "cell_type": "code",
   "execution_count": null,
   "id": "dcc0d35a",
   "metadata": {},
   "outputs": [],
   "source": []
  },
  {
   "cell_type": "code",
   "execution_count": null,
   "id": "77ad34ba",
   "metadata": {},
   "outputs": [],
   "source": []
  },
  {
   "cell_type": "code",
   "execution_count": null,
   "id": "f20574f8",
   "metadata": {},
   "outputs": [],
   "source": []
  },
  {
   "cell_type": "code",
   "execution_count": null,
   "id": "2f05bd91",
   "metadata": {},
   "outputs": [],
   "source": []
  },
  {
   "cell_type": "code",
   "execution_count": null,
   "id": "42d13d86",
   "metadata": {},
   "outputs": [],
   "source": []
  },
  {
   "cell_type": "code",
   "execution_count": null,
   "id": "3bfc4c7f",
   "metadata": {},
   "outputs": [],
   "source": []
  },
  {
   "cell_type": "code",
   "execution_count": null,
   "id": "ac51eedd",
   "metadata": {},
   "outputs": [],
   "source": []
  },
  {
   "cell_type": "code",
   "execution_count": null,
   "id": "3b89252e",
   "metadata": {},
   "outputs": [],
   "source": []
  },
  {
   "cell_type": "code",
   "execution_count": null,
   "id": "8c8cc9f8",
   "metadata": {},
   "outputs": [],
   "source": []
  },
  {
   "cell_type": "code",
   "execution_count": null,
   "id": "2ca70508",
   "metadata": {},
   "outputs": [],
   "source": []
  },
  {
   "cell_type": "code",
   "execution_count": null,
   "id": "7e594e2f",
   "metadata": {},
   "outputs": [],
   "source": []
  },
  {
   "cell_type": "code",
   "execution_count": null,
   "id": "53e3dab4",
   "metadata": {},
   "outputs": [],
   "source": []
  },
  {
   "cell_type": "code",
   "execution_count": null,
   "id": "a8e8cc56",
   "metadata": {},
   "outputs": [],
   "source": []
  },
  {
   "cell_type": "code",
   "execution_count": null,
   "id": "dfe23d7e",
   "metadata": {},
   "outputs": [],
   "source": []
  },
  {
   "cell_type": "code",
   "execution_count": null,
   "id": "9708c7a5",
   "metadata": {},
   "outputs": [],
   "source": []
  },
  {
   "cell_type": "code",
   "execution_count": null,
   "id": "38622468",
   "metadata": {},
   "outputs": [],
   "source": []
  },
  {
   "cell_type": "code",
   "execution_count": null,
   "id": "d8662981",
   "metadata": {},
   "outputs": [],
   "source": []
  },
  {
   "cell_type": "code",
   "execution_count": null,
   "id": "d93c5998",
   "metadata": {},
   "outputs": [],
   "source": []
  },
  {
   "cell_type": "code",
   "execution_count": null,
   "id": "5eae391e",
   "metadata": {},
   "outputs": [],
   "source": []
  },
  {
   "cell_type": "code",
   "execution_count": null,
   "id": "d17c38f6",
   "metadata": {},
   "outputs": [],
   "source": []
  },
  {
   "cell_type": "code",
   "execution_count": null,
   "id": "3671433d",
   "metadata": {},
   "outputs": [],
   "source": []
  },
  {
   "cell_type": "code",
   "execution_count": null,
   "id": "0e3e506d",
   "metadata": {},
   "outputs": [],
   "source": []
  },
  {
   "cell_type": "code",
   "execution_count": null,
   "id": "90154b50",
   "metadata": {},
   "outputs": [],
   "source": []
  },
  {
   "cell_type": "code",
   "execution_count": null,
   "id": "d6028e5d",
   "metadata": {},
   "outputs": [],
   "source": []
  }
 ],
 "metadata": {
  "kernelspec": {
   "display_name": "Python 3 (ipykernel)",
   "language": "python",
   "name": "python3"
  },
  "language_info": {
   "codemirror_mode": {
    "name": "ipython",
    "version": 3
   },
   "file_extension": ".py",
   "mimetype": "text/x-python",
   "name": "python",
   "nbconvert_exporter": "python",
   "pygments_lexer": "ipython3",
   "version": "3.7.10"
  }
 },
 "nbformat": 4,
 "nbformat_minor": 5
}
